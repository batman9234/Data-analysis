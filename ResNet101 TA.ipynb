{
 "cells": [
  {
   "cell_type": "code",
   "execution_count": 1,
   "id": "d637be15",
   "metadata": {},
   "outputs": [
    {
     "name": "stderr",
     "output_type": "stream",
     "text": [
      "2024-07-15 00:30:14.920892: I tensorflow/core/platform/cpu_feature_guard.cc:182] This TensorFlow binary is optimized to use available CPU instructions in performance-critical operations.\n",
      "To enable the following instructions: AVX2 FMA, in other operations, rebuild TensorFlow with the appropriate compiler flags.\n",
      "/usr/lib/python3/dist-packages/scipy/__init__.py:146: UserWarning: A NumPy version >=1.17.3 and <1.25.0 is required for this version of SciPy (detected version 1.25.0\n",
      "  warnings.warn(f\"A NumPy version >={np_minversion} and <{np_maxversion}\"\n"
     ]
    }
   ],
   "source": [
    "import numpy as np\n",
    "import tensorflow as tf\n",
    "import pandas as pd\n",
    "from tensorflow.keras import Model\n",
    "from tensorflow.keras.layers import Dense,Activation\n",
    "from tensorflow.keras.optimizers import Adam\n",
    "from tensorflow.keras.metrics import categorical_crossentropy\n",
    "from tensorflow.keras.preprocessing.image import ImageDataGenerator\n",
    "from tensorflow.keras.preprocessing import image\n",
    "from tensorflow.keras import models, layers\n",
    "from keras.layers import Dense, Dropout\n",
    "from tensorflow.keras.callbacks import Callback, EarlyStopping,ModelCheckpoint\n",
    "from tensorflow.keras.applications import VGG19\n",
    "from tensorflow.keras.layers.experimental import preprocessing\n",
    "from tensorflow.keras.applications import imagenet_utils\n",
    "from sklearn.metrics import confusion_matrix,classification_report\n",
    "import itertools\n",
    "import os\n",
    "from pathlib import Path\n",
    "import shutil\n",
    "import random\n",
    "import matplotlib.pyplot as plt\n",
    "import matplotlib.cm as cm\n",
    "import cv2\n",
    "\n",
    "%matplotlib inline"
   ]
  },
  {
   "cell_type": "code",
   "execution_count": 2,
   "id": "46c021a9",
   "metadata": {},
   "outputs": [
    {
     "name": "stdout",
     "output_type": "stream",
     "text": [
      "Num CPUs Available:  1\n",
      "Name: /physical_device:CPU:0 Type: CPU\n"
     ]
    }
   ],
   "source": [
    "CPUs = tf.config.list_physical_devices('CPU')\n",
    "print(\"Num CPUs Available: \", len(CPUs))\n",
    "\n",
    "# Iterate over the list of CPUs and print their details\n",
    "for cpu in CPUs:\n",
    "    print(\"Name:\", cpu.name, \"Type:\", cpu.device_type)"
   ]
  },
  {
   "cell_type": "code",
   "execution_count": 3,
   "id": "74ee06c8",
   "metadata": {},
   "outputs": [
    {
     "name": "stdout",
     "output_type": "stream",
     "text": [
      "--2024-07-15 00:30:21--  https://raw.githubusercontent.com/mrdbourke/tensorflow-deep-learning/main/extras/helper_functions.py\n",
      "Resolving raw.githubusercontent.com (raw.githubusercontent.com)... 185.199.110.133, 185.199.109.133, 185.199.108.133, ...\n",
      "Connecting to raw.githubusercontent.com (raw.githubusercontent.com)|185.199.110.133|:443... connected.\n",
      "HTTP request sent, awaiting response... 200 OK\n",
      "Length: 10246 (10K) [text/plain]\n",
      "Saving to: ‘helper_functions.py.29’\n",
      "\n",
      "helper_functions.py 100%[===================>]  10.01K  --.-KB/s    in 0.002s  \n",
      "\n",
      "2024-07-15 00:30:21 (4.91 MB/s) - ‘helper_functions.py.29’ saved [10246/10246]\n",
      "\n"
     ]
    }
   ],
   "source": [
    "!wget https://raw.githubusercontent.com/mrdbourke/tensorflow-deep-learning/main/extras/helper_functions.py\n",
    "\n",
    "# Import series of helper functions for our notebook\n",
    "from helper_functions import create_tensorboard_callback, plot_loss_curves, unzip_data, compare_historys, walk_through_dir, pred_and_plot\n"
   ]
  },
  {
   "cell_type": "code",
   "execution_count": 4,
   "id": "28db0319",
   "metadata": {},
   "outputs": [],
   "source": [
    "BATCH_SIZE = 32\n",
    "IMAGE_SIZE = (224, 224)"
   ]
  },
  {
   "cell_type": "code",
   "execution_count": 5,
   "id": "e75d17e9",
   "metadata": {},
   "outputs": [
    {
     "name": "stdout",
     "output_type": "stream",
     "text": [
      "There are 2 directories and 0 images in '/mnt/c/Users/LENOVO/Documents/TA Leo'.\n",
      "There are 0 directories and 1503 images in '/mnt/c/Users/LENOVO/Documents/TA Leo/GABAH BENER'.\n",
      "There are 0 directories and 428 images in '/mnt/c/Users/LENOVO/Documents/TA Leo/GABAH GRADE B'.\n"
     ]
    }
   ],
   "source": [
    "#dataset = 'C:/Users/LENOVO/Documents/TA Leo'\n",
    "dataset = '/mnt/c/Users/LENOVO/Documents/TA Leo'\n",
    "walk_through_dir(dataset)"
   ]
  },
  {
   "cell_type": "code",
   "execution_count": 6,
   "id": "4cac9c0d",
   "metadata": {},
   "outputs": [
    {
     "data": {
      "text/html": [
       "<div>\n",
       "<style scoped>\n",
       "    .dataframe tbody tr th:only-of-type {\n",
       "        vertical-align: middle;\n",
       "    }\n",
       "\n",
       "    .dataframe tbody tr th {\n",
       "        vertical-align: top;\n",
       "    }\n",
       "\n",
       "    .dataframe thead th {\n",
       "        text-align: right;\n",
       "    }\n",
       "</style>\n",
       "<table border=\"1\" class=\"dataframe\">\n",
       "  <thead>\n",
       "    <tr style=\"text-align: right;\">\n",
       "      <th></th>\n",
       "      <th>Filepath</th>\n",
       "      <th>Label</th>\n",
       "    </tr>\n",
       "  </thead>\n",
       "  <tbody>\n",
       "    <tr>\n",
       "      <th>0</th>\n",
       "      <td>/mnt/c/Users/LENOVO/Documents/TA Leo/GABAH BEN...</td>\n",
       "      <td>GABAH BENER</td>\n",
       "    </tr>\n",
       "    <tr>\n",
       "      <th>1</th>\n",
       "      <td>/mnt/c/Users/LENOVO/Documents/TA Leo/GABAH BEN...</td>\n",
       "      <td>GABAH BENER</td>\n",
       "    </tr>\n",
       "    <tr>\n",
       "      <th>2</th>\n",
       "      <td>/mnt/c/Users/LENOVO/Documents/TA Leo/GABAH BEN...</td>\n",
       "      <td>GABAH BENER</td>\n",
       "    </tr>\n",
       "    <tr>\n",
       "      <th>3</th>\n",
       "      <td>/mnt/c/Users/LENOVO/Documents/TA Leo/GABAH BEN...</td>\n",
       "      <td>GABAH BENER</td>\n",
       "    </tr>\n",
       "    <tr>\n",
       "      <th>4</th>\n",
       "      <td>/mnt/c/Users/LENOVO/Documents/TA Leo/GABAH BEN...</td>\n",
       "      <td>GABAH BENER</td>\n",
       "    </tr>\n",
       "    <tr>\n",
       "      <th>...</th>\n",
       "      <td>...</td>\n",
       "      <td>...</td>\n",
       "    </tr>\n",
       "    <tr>\n",
       "      <th>1926</th>\n",
       "      <td>/mnt/c/Users/LENOVO/Documents/TA Leo/GABAH GRA...</td>\n",
       "      <td>GABAH GRADE B</td>\n",
       "    </tr>\n",
       "    <tr>\n",
       "      <th>1927</th>\n",
       "      <td>/mnt/c/Users/LENOVO/Documents/TA Leo/GABAH GRA...</td>\n",
       "      <td>GABAH GRADE B</td>\n",
       "    </tr>\n",
       "    <tr>\n",
       "      <th>1928</th>\n",
       "      <td>/mnt/c/Users/LENOVO/Documents/TA Leo/GABAH GRA...</td>\n",
       "      <td>GABAH GRADE B</td>\n",
       "    </tr>\n",
       "    <tr>\n",
       "      <th>1929</th>\n",
       "      <td>/mnt/c/Users/LENOVO/Documents/TA Leo/GABAH GRA...</td>\n",
       "      <td>GABAH GRADE B</td>\n",
       "    </tr>\n",
       "    <tr>\n",
       "      <th>1930</th>\n",
       "      <td>/mnt/c/Users/LENOVO/Documents/TA Leo/GABAH GRA...</td>\n",
       "      <td>GABAH GRADE B</td>\n",
       "    </tr>\n",
       "  </tbody>\n",
       "</table>\n",
       "<p>1931 rows × 2 columns</p>\n",
       "</div>"
      ],
      "text/plain": [
       "                                               Filepath          Label\n",
       "0     /mnt/c/Users/LENOVO/Documents/TA Leo/GABAH BEN...    GABAH BENER\n",
       "1     /mnt/c/Users/LENOVO/Documents/TA Leo/GABAH BEN...    GABAH BENER\n",
       "2     /mnt/c/Users/LENOVO/Documents/TA Leo/GABAH BEN...    GABAH BENER\n",
       "3     /mnt/c/Users/LENOVO/Documents/TA Leo/GABAH BEN...    GABAH BENER\n",
       "4     /mnt/c/Users/LENOVO/Documents/TA Leo/GABAH BEN...    GABAH BENER\n",
       "...                                                 ...            ...\n",
       "1926  /mnt/c/Users/LENOVO/Documents/TA Leo/GABAH GRA...  GABAH GRADE B\n",
       "1927  /mnt/c/Users/LENOVO/Documents/TA Leo/GABAH GRA...  GABAH GRADE B\n",
       "1928  /mnt/c/Users/LENOVO/Documents/TA Leo/GABAH GRA...  GABAH GRADE B\n",
       "1929  /mnt/c/Users/LENOVO/Documents/TA Leo/GABAH GRA...  GABAH GRADE B\n",
       "1930  /mnt/c/Users/LENOVO/Documents/TA Leo/GABAH GRA...  GABAH GRADE B\n",
       "\n",
       "[1931 rows x 2 columns]"
      ]
     },
     "execution_count": 6,
     "metadata": {},
     "output_type": "execute_result"
    }
   ],
   "source": [
    "images_dir = Path(dataset)\n",
    "filepaths = list(images_dir.glob(r'**/*.JPG')) + list(images_dir.glob(r'**/*.jpg'))\n",
    "labels = list(map(lambda x: os.path.split(os.path.split(x)[0])[1], filepaths))\n",
    "\n",
    "filepaths = pd.Series(filepaths, name='Filepath').astype(str)\n",
    "labels = pd.Series(labels, name='Label')\n",
    "\n",
    "# Concatenate filepaths and labels\n",
    "image_df = pd.concat([filepaths, labels], axis=1)\n",
    "image_df"
   ]
  },
  {
   "cell_type": "code",
   "execution_count": 7,
   "id": "193b02c0",
   "metadata": {},
   "outputs": [],
   "source": [
    "from sklearn.model_selection import train_test_split\n",
    "train_df, test_df = train_test_split(image_df, test_size=0.2, shuffle=True, random_state=1)"
   ]
  },
  {
   "cell_type": "code",
   "execution_count": 8,
   "id": "c9263e8e",
   "metadata": {},
   "outputs": [],
   "source": [
    "train_generator = ImageDataGenerator(\n",
    "    preprocessing_function=tf.keras.applications.resnet_v2.preprocess_input,\n",
    "    validation_split=0.2\n",
    ")\n",
    "\n",
    "test_generator = ImageDataGenerator(\n",
    "    preprocessing_function=tf.keras.applications.resnet_v2.preprocess_input\n",
    ")"
   ]
  },
  {
   "cell_type": "code",
   "execution_count": 9,
   "id": "682e503d",
   "metadata": {},
   "outputs": [
    {
     "name": "stdout",
     "output_type": "stream",
     "text": [
      "Found 1236 validated image filenames belonging to 2 classes.\n",
      "Found 308 validated image filenames belonging to 2 classes.\n",
      "Found 387 validated image filenames belonging to 2 classes.\n"
     ]
    }
   ],
   "source": [
    "train_images = train_generator.flow_from_dataframe(\n",
    "    dataframe=train_df,\n",
    "    x_col='Filepath',\n",
    "    y_col='Label',\n",
    "    target_size=(224, 224),\n",
    "    color_mode='rgb',\n",
    "    class_mode='categorical',\n",
    "    batch_size=32,\n",
    "    shuffle=True,\n",
    "    seed=42,\n",
    "    subset='training'\n",
    ")\n",
    "\n",
    "val_images = train_generator.flow_from_dataframe(\n",
    "    dataframe=train_df,\n",
    "    x_col='Filepath',\n",
    "    y_col='Label',\n",
    "    target_size=(224, 224),\n",
    "    color_mode='rgb',\n",
    "    class_mode='categorical',\n",
    "    batch_size=32,\n",
    "    shuffle=True,\n",
    "    seed=42,\n",
    "    subset='validation'\n",
    ")\n",
    "\n",
    "test_images = test_generator.flow_from_dataframe(\n",
    "    dataframe=test_df,\n",
    "    x_col='Filepath',\n",
    "    y_col='Label',\n",
    "    target_size=(224, 224),\n",
    "    color_mode='rgb',\n",
    "    class_mode='categorical',\n",
    "    batch_size=32,\n",
    "    shuffle=False\n",
    ")"
   ]
  },
  {
   "cell_type": "code",
   "execution_count": 10,
   "id": "b6e0dbb0",
   "metadata": {},
   "outputs": [],
   "source": [
    "from tensorflow.keras.layers import Rescaling\n",
    "resize_and_rescale = tf.keras.Sequential([\n",
    "  layers.experimental.preprocessing.Resizing(224,224), #dimensions\n",
    "  layers.experimental.preprocessing.Rescaling(1./255),\n",
    "])\n",
    "\n",
    "data_augmentation = tf.keras.Sequential([\n",
    "  preprocessing.RandomFlip(\"horizontal_and_vertical\"),\n",
    "  preprocessing.RandomRotation(0.2),\n",
    "  preprocessing.RandomZoom(0.2),\n",
    "  preprocessing.RandomHeight(0.2),\n",
    "  preprocessing.RandomWidth(0.2),\n",
    "], name=\"data_augmentation\")"
   ]
  },
  {
   "cell_type": "code",
   "execution_count": 11,
   "id": "f842f8b1",
   "metadata": {},
   "outputs": [],
   "source": [
    "pretrained_model = tf.keras.applications.ResNet101V2(\n",
    "    input_shape=(224, 224, 3),\n",
    "    include_top=False,\n",
    "    weights='imagenet',\n",
    "    pooling='max'\n",
    ")\n",
    "\n",
    "pretrained_model.trainable = False"
   ]
  },
  {
   "cell_type": "code",
   "execution_count": 12,
   "id": "5f18b25f",
   "metadata": {},
   "outputs": [],
   "source": [
    "checkpoint_path = \"Checkpoint_model\"\n",
    "checkpoint_callback = ModelCheckpoint(checkpoint_path,\n",
    "                                      save_weights_only=True,\n",
    "                                      monitor=\"val_accuracy\",\n",
    "                                      save_best_only=True)\n",
    "stop = EarlyStopping(monitor=\"val_loss\", #val-loss\n",
    "                                                  patience=3,restore_best_weights=True)"
   ]
  },
  {
   "cell_type": "code",
   "execution_count": 13,
   "id": "9d0fac06",
   "metadata": {},
   "outputs": [],
   "source": [
    "from tensorflow.keras.callbacks import TensorBoard\n",
    "import os\n",
    "import datetime\n",
    "\n",
    "# Define the function to create a TensorBoard callback ######\n",
    "def create_tensorboard_callback(training_logs, experiment_name):\n",
    "    log_dir = os.path.join('training_logs', 'classification', datetime.datetime.now().strftime(\"%Y%m%d-%H%M%S\"))\n",
    "    tensorboard_callback = TensorBoard(log_dir=log_dir)\n",
    "    return tensorboard_callback"
   ]
  },
  {
   "cell_type": "code",
   "execution_count": 14,
   "id": "68ed0742",
   "metadata": {},
   "outputs": [
    {
     "name": "stdout",
     "output_type": "stream",
     "text": [
      "Epoch 1/50\n",
      "39/39 [==============================] - 186s 5s/step - loss: 3.2951 - accuracy: 0.7104 - val_loss: 0.1854 - val_accuracy: 0.9286\n",
      "Epoch 2/50\n",
      "39/39 [==============================] - 171s 4s/step - loss: 1.6984 - accuracy: 0.7977 - val_loss: 0.1538 - val_accuracy: 0.9481\n",
      "Epoch 3/50\n",
      "39/39 [==============================] - 164s 4s/step - loss: 0.9257 - accuracy: 0.8536 - val_loss: 0.0872 - val_accuracy: 0.9740\n",
      "Epoch 4/50\n",
      "39/39 [==============================] - 162s 4s/step - loss: 0.6224 - accuracy: 0.8843 - val_loss: 0.0783 - val_accuracy: 0.9675\n",
      "Epoch 5/50\n",
      "39/39 [==============================] - 166s 4s/step - loss: 0.5256 - accuracy: 0.8956 - val_loss: 0.0478 - val_accuracy: 0.9805\n",
      "Epoch 6/50\n",
      "39/39 [==============================] - 182s 5s/step - loss: 0.4207 - accuracy: 0.9110 - val_loss: 0.0439 - val_accuracy: 0.9805\n",
      "Epoch 7/50\n",
      "39/39 [==============================] - 196s 5s/step - loss: 0.3368 - accuracy: 0.9199 - val_loss: 0.0533 - val_accuracy: 0.9805\n",
      "Epoch 8/50\n",
      "39/39 [==============================] - 193s 5s/step - loss: 0.3044 - accuracy: 0.9248 - val_loss: 0.0415 - val_accuracy: 0.9838\n",
      "Epoch 9/50\n",
      "39/39 [==============================] - 191s 5s/step - loss: 0.2487 - accuracy: 0.9409 - val_loss: 0.0261 - val_accuracy: 0.9870\n",
      "Epoch 10/50\n",
      "39/39 [==============================] - 187s 5s/step - loss: 0.1909 - accuracy: 0.9482 - val_loss: 0.0266 - val_accuracy: 0.9870\n",
      "Epoch 11/50\n",
      "39/39 [==============================] - 176s 5s/step - loss: 0.2335 - accuracy: 0.9474 - val_loss: 0.0260 - val_accuracy: 0.9903\n",
      "Epoch 12/50\n",
      "39/39 [==============================] - 178s 5s/step - loss: 0.1479 - accuracy: 0.9571 - val_loss: 0.0357 - val_accuracy: 0.9838\n",
      "Epoch 13/50\n",
      "39/39 [==============================] - 203s 5s/step - loss: 0.1730 - accuracy: 0.9515 - val_loss: 0.0330 - val_accuracy: 0.9903\n",
      "Epoch 14/50\n",
      "39/39 [==============================] - 193s 5s/step - loss: 0.1740 - accuracy: 0.9595 - val_loss: 0.0530 - val_accuracy: 0.9740\n"
     ]
    }
   ],
   "source": [
    "inputs = pretrained_model.input\n",
    "x = resize_and_rescale(inputs)\n",
    "x = data_augmentation(x)\n",
    "\n",
    "x = Dense(256, activation='relu')(pretrained_model.output)\n",
    "x = Dropout(0.35)(x)\n",
    "x = Dense(256, activation='relu')(x)\n",
    "x = Dropout(0.35)(x)\n",
    "\n",
    "outputs = Dense(2, activation='softmax')(x)\n",
    "\n",
    "model = Model(inputs=inputs, outputs=outputs)\n",
    "\n",
    "model.compile(\n",
    "    optimizer=Adam(0.00005),\n",
    "    loss='categorical_crossentropy',\n",
    "    metrics=['accuracy']\n",
    ")\n",
    "history = model.fit(\n",
    "    train_images,\n",
    "    steps_per_epoch=len(train_images),\n",
    "    validation_data=val_images,\n",
    "    validation_steps=len(val_images),\n",
    "    epochs=50,\n",
    "    callbacks=[\n",
    "        stop,\n",
    "        create_tensorboard_callback(\"training_logs\", \"classification\"),\n",
    "        checkpoint_callback,\n",
    "    ]\n",
    ")"
   ]
  },
  {
   "cell_type": "code",
   "execution_count": 15,
   "id": "d0d827ac",
   "metadata": {},
   "outputs": [
    {
     "name": "stdout",
     "output_type": "stream",
     "text": [
      "    Test Loss: 0.06091\n",
      "Test Accuracy: 98.19%\n"
     ]
    }
   ],
   "source": [
    "results = model.evaluate(test_images, verbose=0)\n",
    "\n",
    "print(\"    Test Loss: {:.5f}\".format(results[0]))\n",
    "print(\"Test Accuracy: {:.2f}%\".format(results[1] * 100))\n",
    "#epoch 9"
   ]
  },
  {
   "cell_type": "code",
   "execution_count": 16,
   "id": "80129d7a",
   "metadata": {},
   "outputs": [
    {
     "name": "stdout",
     "output_type": "stream",
     "text": [
      "13/13 [==============================] - 48s 3s/step\n",
      "               precision    recall  f1-score   support\n",
      "\n",
      "  GABAH BENER       0.98      1.00      0.99       293\n",
      "GABAH GRADE B       0.99      0.94      0.96        94\n",
      "\n",
      "     accuracy                           0.98       387\n",
      "    macro avg       0.98      0.97      0.97       387\n",
      " weighted avg       0.98      0.98      0.98       387\n",
      "\n"
     ]
    }
   ],
   "source": [
    "pred = model.predict(test_images)\n",
    "pred = np.argmax(pred,axis=1)\n",
    "\n",
    "# Map the label\n",
    "labels = (train_images.class_indices)\n",
    "labels = dict((v,k) for k,v in labels.items())\n",
    "pred = [labels[k] for k in pred]\n",
    "\n",
    "y_test = list(test_df.Label)\n",
    "print(classification_report(y_test, pred))"
   ]
  },
  {
   "cell_type": "code",
   "execution_count": 17,
   "id": "e90c94ca",
   "metadata": {},
   "outputs": [
    {
     "data": {
      "image/png": "[encoded data removed]",
      "text/plain": [
       "<Figure size 432x288 with 1 Axes>"
      ]
     },
     "metadata": {
      "needs_background": "light"
     },
     "output_type": "display_data"
    },
    {
     "data": {
      "image/png": "[encoded data removed]",
      "text/plain": [
       "<Figure size 432x288 with 1 Axes>"
      ]
     },
     "metadata": {
      "needs_background": "light"
     },
     "output_type": "display_data"
    }
   ],
   "source": [
    "plot_loss_curves(history)"
   ]
  },
  {
   "cell_type": "code",
   "execution_count": 18,
   "id": "48a88922",
   "metadata": {},
   "outputs": [
    {
     "data": {
      "image/png": "[encoded data removed]",
      "text/plain": [
       "<Figure size 432x432 with 1 Axes>"
      ]
     },
     "metadata": {
      "needs_background": "light"
     },
     "output_type": "display_data"
    }
   ],
   "source": [
    "from sklearn.metrics import confusion_matrix\n",
    "\n",
    "conf_matrix = confusion_matrix(y_test, pred)\n",
    "import seaborn as sns\n",
    "\n",
    "plt.figure(figsize=(6, 6))\n",
    "sns.heatmap(conf_matrix, annot=True, fmt=\"d\", cmap=\"Blues\", cbar=False,\n",
    "            xticklabels=labels.values(), yticklabels=labels.values())\n",
    "plt.xlabel(\"Predicted Labels\")\n",
    "plt.ylabel(\"True Labels\")\n",
    "plt.title(\"Confusion Matrix\")\n",
    "plt.show()"
   ]
  },
  {
   "cell_type": "code",
   "execution_count": null,
   "id": "c66810d2",
   "metadata": {},
   "outputs": [],
   "source": []
  }
 ],
 "metadata": {
  "kernelspec": {
   "display_name": "Python 3 (ipykernel)",
   "language": "python",
   "name": "python3"
  },
  "language_info": {
   "codemirror_mode": {
    "name": "ipython",
    "version": 3
   },
   "file_extension": ".py",
   "mimetype": "text/x-python",
   "name": "python",
   "nbconvert_exporter": "python",
   "pygments_lexer": "ipython3",
   "version": "3.10.12"
  }
 },
 "nbformat": 4,
 "nbformat_minor": 5
}
