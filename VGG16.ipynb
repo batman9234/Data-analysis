{
 "cells": [
  {
   "cell_type": "code",
   "execution_count": null,
   "id": "00ac9fd0",
   "metadata": {},
   "outputs": [],
   "source": []
  },
  {
   "cell_type": "code",
   "execution_count": 1,
   "id": "3e896854",
   "metadata": {},
   "outputs": [
    {
     "name": "stderr",
     "output_type": "stream",
     "text": [
      "2024-07-14 19:25:24.031109: I tensorflow/core/platform/cpu_feature_guard.cc:182] This TensorFlow binary is optimized to use available CPU instructions in performance-critical operations.\n",
      "To enable the following instructions: AVX2 FMA, in other operations, rebuild TensorFlow with the appropriate compiler flags.\n",
      "/usr/lib/python3/dist-packages/scipy/__init__.py:146: UserWarning: A NumPy version >=1.17.3 and <1.25.0 is required for this version of SciPy (detected version 1.25.0\n",
      "  warnings.warn(f\"A NumPy version >={np_minversion} and <{np_maxversion}\"\n"
     ]
    }
   ],
   "source": [
    "import numpy as np\n",
    "import tensorflow as tf\n",
    "import pandas as pd\n",
    "from tensorflow.keras import Model\n",
    "from tensorflow.keras.layers import Dense,Activation\n",
    "from tensorflow.keras.optimizers import Adam\n",
    "from tensorflow.keras.metrics import categorical_crossentropy\n",
    "from tensorflow.keras.preprocessing.image import ImageDataGenerator\n",
    "from tensorflow.keras.preprocessing import image\n",
    "from tensorflow.keras import models, layers\n",
    "from keras.layers import Dense, Dropout\n",
    "from tensorflow.keras.callbacks import Callback, EarlyStopping,ModelCheckpoint\n",
    "from tensorflow.keras.applications import VGG16\n",
    "from tensorflow.keras.layers.experimental import preprocessing\n",
    "from tensorflow.keras.applications import imagenet_utils\n",
    "from sklearn.metrics import confusion_matrix,classification_report\n",
    "import itertools\n",
    "import os\n",
    "from pathlib import Path\n",
    "import shutil\n",
    "import random\n",
    "import matplotlib.pyplot as plt\n",
    "import matplotlib.cm as cm\n",
    "import cv2\n",
    "\n",
    "%matplotlib inline"
   ]
  },
  {
   "cell_type": "code",
   "execution_count": 2,
   "id": "9f77eff4",
   "metadata": {},
   "outputs": [
    {
     "name": "stdout",
     "output_type": "stream",
     "text": [
      "Num CPUs Available:  1\n",
      "Name: /physical_device:CPU:0 Type: CPU\n"
     ]
    }
   ],
   "source": [
    "CPUs = tf.config.list_physical_devices('CPU')\n",
    "print(\"Num CPUs Available: \", len(CPUs))\n",
    "\n",
    "# Iterate over the list of CPUs and print their details\n",
    "for cpu in CPUs:\n",
    "    print(\"Name:\", cpu.name, \"Type:\", cpu.device_type)"
   ]
  },
  {
   "cell_type": "code",
   "execution_count": 3,
   "id": "ab8b12a7",
   "metadata": {},
   "outputs": [
    {
     "name": "stdout",
     "output_type": "stream",
     "text": [
      "--2024-07-14 19:25:32--  https://raw.githubusercontent.com/mrdbourke/tensorflow-deep-learning/main/extras/helper_functions.py\n",
      "Resolving raw.githubusercontent.com (raw.githubusercontent.com)... 185.199.110.133, 185.199.111.133, 185.199.109.133, ...\n",
      "Connecting to raw.githubusercontent.com (raw.githubusercontent.com)|185.199.110.133|:443... connected.\n",
      "HTTP request sent, awaiting response... 200 OK\n",
      "Length: 10246 (10K) [text/plain]\n",
      "Saving to: ‘helper_functions.py.24’\n",
      "\n",
      "helper_functions.py 100%[===================>]  10.01K  --.-KB/s    in 0.003s  \n",
      "\n",
      "2024-07-14 19:25:32 (3.86 MB/s) - ‘helper_functions.py.24’ saved [10246/10246]\n",
      "\n"
     ]
    }
   ],
   "source": [
    "!wget https://raw.githubusercontent.com/mrdbourke/tensorflow-deep-learning/main/extras/helper_functions.py\n",
    "\n",
    "# Import series of helper functions for our notebook\n",
    "from helper_functions import create_tensorboard_callback, plot_loss_curves, unzip_data, compare_historys, walk_through_dir, pred_and_plot\n"
   ]
  },
  {
   "cell_type": "code",
   "execution_count": 4,
   "id": "2d150c74",
   "metadata": {},
   "outputs": [],
   "source": [
    "BATCH_SIZE = 32\n",
    "IMAGE_SIZE = (224, 224)"
   ]
  },
  {
   "cell_type": "code",
   "execution_count": 5,
   "id": "d41b7672",
   "metadata": {},
   "outputs": [
    {
     "name": "stdout",
     "output_type": "stream",
     "text": [
      "There are 2 directories and 0 images in '/mnt/c/Users/LENOVO/Documents/TA Leo'.\n",
      "There are 0 directories and 1503 images in '/mnt/c/Users/LENOVO/Documents/TA Leo/GABAH BENER'.\n",
      "There are 0 directories and 428 images in '/mnt/c/Users/LENOVO/Documents/TA Leo/GABAH GRADE B'.\n"
     ]
    }
   ],
   "source": [
    "#dataset = 'C:/Users/LENOVO/Documents/TA Leo'\n",
    "dataset = '/mnt/c/Users/LENOVO/Documents/TA Leo'\n",
    "walk_through_dir(dataset)"
   ]
  },
  {
   "cell_type": "code",
   "execution_count": 6,
   "id": "6c9165d8",
   "metadata": {},
   "outputs": [
    {
     "data": {
      "text/html": [
       "<div>\n",
       "<style scoped>\n",
       "    .dataframe tbody tr th:only-of-type {\n",
       "        vertical-align: middle;\n",
       "    }\n",
       "\n",
       "    .dataframe tbody tr th {\n",
       "        vertical-align: top;\n",
       "    }\n",
       "\n",
       "    .dataframe thead th {\n",
       "        text-align: right;\n",
       "    }\n",
       "</style>\n",
       "<table border=\"1\" class=\"dataframe\">\n",
       "  <thead>\n",
       "    <tr style=\"text-align: right;\">\n",
       "      <th></th>\n",
       "      <th>Filepath</th>\n",
       "      <th>Label</th>\n",
       "    </tr>\n",
       "  </thead>\n",
       "  <tbody>\n",
       "    <tr>\n",
       "      <th>0</th>\n",
       "      <td>/mnt/c/Users/LENOVO/Documents/TA Leo/GABAH BEN...</td>\n",
       "      <td>GABAH BENER</td>\n",
       "    </tr>\n",
       "    <tr>\n",
       "      <th>1</th>\n",
       "      <td>/mnt/c/Users/LENOVO/Documents/TA Leo/GABAH BEN...</td>\n",
       "      <td>GABAH BENER</td>\n",
       "    </tr>\n",
       "    <tr>\n",
       "      <th>2</th>\n",
       "      <td>/mnt/c/Users/LENOVO/Documents/TA Leo/GABAH BEN...</td>\n",
       "      <td>GABAH BENER</td>\n",
       "    </tr>\n",
       "    <tr>\n",
       "      <th>3</th>\n",
       "      <td>/mnt/c/Users/LENOVO/Documents/TA Leo/GABAH BEN...</td>\n",
       "      <td>GABAH BENER</td>\n",
       "    </tr>\n",
       "    <tr>\n",
       "      <th>4</th>\n",
       "      <td>/mnt/c/Users/LENOVO/Documents/TA Leo/GABAH BEN...</td>\n",
       "      <td>GABAH BENER</td>\n",
       "    </tr>\n",
       "    <tr>\n",
       "      <th>...</th>\n",
       "      <td>...</td>\n",
       "      <td>...</td>\n",
       "    </tr>\n",
       "    <tr>\n",
       "      <th>1926</th>\n",
       "      <td>/mnt/c/Users/LENOVO/Documents/TA Leo/GABAH GRA...</td>\n",
       "      <td>GABAH GRADE B</td>\n",
       "    </tr>\n",
       "    <tr>\n",
       "      <th>1927</th>\n",
       "      <td>/mnt/c/Users/LENOVO/Documents/TA Leo/GABAH GRA...</td>\n",
       "      <td>GABAH GRADE B</td>\n",
       "    </tr>\n",
       "    <tr>\n",
       "      <th>1928</th>\n",
       "      <td>/mnt/c/Users/LENOVO/Documents/TA Leo/GABAH GRA...</td>\n",
       "      <td>GABAH GRADE B</td>\n",
       "    </tr>\n",
       "    <tr>\n",
       "      <th>1929</th>\n",
       "      <td>/mnt/c/Users/LENOVO/Documents/TA Leo/GABAH GRA...</td>\n",
       "      <td>GABAH GRADE B</td>\n",
       "    </tr>\n",
       "    <tr>\n",
       "      <th>1930</th>\n",
       "      <td>/mnt/c/Users/LENOVO/Documents/TA Leo/GABAH GRA...</td>\n",
       "      <td>GABAH GRADE B</td>\n",
       "    </tr>\n",
       "  </tbody>\n",
       "</table>\n",
       "<p>1931 rows × 2 columns</p>\n",
       "</div>"
      ],
      "text/plain": [
       "                                               Filepath          Label\n",
       "0     /mnt/c/Users/LENOVO/Documents/TA Leo/GABAH BEN...    GABAH BENER\n",
       "1     /mnt/c/Users/LENOVO/Documents/TA Leo/GABAH BEN...    GABAH BENER\n",
       "2     /mnt/c/Users/LENOVO/Documents/TA Leo/GABAH BEN...    GABAH BENER\n",
       "3     /mnt/c/Users/LENOVO/Documents/TA Leo/GABAH BEN...    GABAH BENER\n",
       "4     /mnt/c/Users/LENOVO/Documents/TA Leo/GABAH BEN...    GABAH BENER\n",
       "...                                                 ...            ...\n",
       "1926  /mnt/c/Users/LENOVO/Documents/TA Leo/GABAH GRA...  GABAH GRADE B\n",
       "1927  /mnt/c/Users/LENOVO/Documents/TA Leo/GABAH GRA...  GABAH GRADE B\n",
       "1928  /mnt/c/Users/LENOVO/Documents/TA Leo/GABAH GRA...  GABAH GRADE B\n",
       "1929  /mnt/c/Users/LENOVO/Documents/TA Leo/GABAH GRA...  GABAH GRADE B\n",
       "1930  /mnt/c/Users/LENOVO/Documents/TA Leo/GABAH GRA...  GABAH GRADE B\n",
       "\n",
       "[1931 rows x 2 columns]"
      ]
     },
     "execution_count": 6,
     "metadata": {},
     "output_type": "execute_result"
    }
   ],
   "source": [
    "images_dir = Path(dataset)\n",
    "filepaths = list(images_dir.glob(r'**/*.JPG')) + list(images_dir.glob(r'**/*.jpg'))\n",
    "labels = list(map(lambda x: os.path.split(os.path.split(x)[0])[1], filepaths))\n",
    "\n",
    "filepaths = pd.Series(filepaths, name='Filepath').astype(str)\n",
    "labels = pd.Series(labels, name='Label')\n",
    "\n",
    "# Concatenate filepaths and labels\n",
    "image_df = pd.concat([filepaths, labels], axis=1)\n",
    "image_df"
   ]
  },
  {
   "cell_type": "code",
   "execution_count": 7,
   "id": "fcc11cf6",
   "metadata": {},
   "outputs": [],
   "source": [
    "from sklearn.model_selection import train_test_split\n",
    "train_df, test_df = train_test_split(image_df, test_size=0.2, shuffle=True, random_state=1)"
   ]
  },
  {
   "cell_type": "code",
   "execution_count": 8,
   "id": "4b17176c",
   "metadata": {},
   "outputs": [],
   "source": [
    "train_generator = ImageDataGenerator(\n",
    "    preprocessing_function=tf.keras.applications.vgg16.preprocess_input,\n",
    "    validation_split=0.2\n",
    ")\n",
    "\n",
    "test_generator = ImageDataGenerator(\n",
    "    preprocessing_function=tf.keras.applications.vgg16.preprocess_input\n",
    ")"
   ]
  },
  {
   "cell_type": "code",
   "execution_count": 9,
   "id": "dbb13e69",
   "metadata": {},
   "outputs": [
    {
     "name": "stdout",
     "output_type": "stream",
     "text": [
      "Found 1236 validated image filenames belonging to 2 classes.\n",
      "Found 308 validated image filenames belonging to 2 classes.\n",
      "Found 387 validated image filenames belonging to 2 classes.\n"
     ]
    }
   ],
   "source": [
    "train_images = train_generator.flow_from_dataframe(\n",
    "    dataframe=train_df,\n",
    "    x_col='Filepath',\n",
    "    y_col='Label',\n",
    "    target_size=(224, 224),\n",
    "    color_mode='rgb',\n",
    "    class_mode='categorical',\n",
    "    batch_size=32,\n",
    "    shuffle=True,\n",
    "    seed=42,\n",
    "    subset='training'\n",
    ")\n",
    "\n",
    "val_images = train_generator.flow_from_dataframe(\n",
    "    dataframe=train_df,\n",
    "    x_col='Filepath',\n",
    "    y_col='Label',\n",
    "    target_size=(224, 224),\n",
    "    color_mode='rgb',\n",
    "    class_mode='categorical',\n",
    "    batch_size=32,\n",
    "    shuffle=True,\n",
    "    seed=42,\n",
    "    subset='validation'\n",
    ")\n",
    "\n",
    "test_images = test_generator.flow_from_dataframe(\n",
    "    dataframe=test_df,\n",
    "    x_col='Filepath',\n",
    "    y_col='Label',\n",
    "    target_size=(224, 224),\n",
    "    color_mode='rgb',\n",
    "    class_mode='categorical',\n",
    "    batch_size=32,\n",
    "    shuffle=False\n",
    ")"
   ]
  },
  {
   "cell_type": "code",
   "execution_count": 10,
   "id": "22edb266",
   "metadata": {},
   "outputs": [],
   "source": [
    "from tensorflow.keras.layers import Rescaling\n",
    "resize_and_rescale = tf.keras.Sequential([\n",
    "  layers.experimental.preprocessing.Resizing(224,224), #dimensions\n",
    "  layers.experimental.preprocessing.Rescaling(1./255),\n",
    "])\n",
    "\n",
    "\n",
    "data_augmentation = tf.keras.Sequential([\n",
    " \n",
    "  layers.experimental.preprocessing.RandomFlip(\"horizontal\"),\n",
    "  layers.experimental.preprocessing.RandomRotation(0.1),\n",
    "  layers.experimental.preprocessing.RandomZoom(0.1),\n",
    "  layers.experimental.preprocessing.RandomContrast(0.1),\n",
    "])"
   ]
  },
  {
   "cell_type": "code",
   "execution_count": 11,
   "id": "7e149337",
   "metadata": {},
   "outputs": [],
   "source": [
    "# Load the pretained model\n",
    "pretrained_model = tf.keras.applications.vgg19.VGG19(\n",
    "    input_shape=(224, 224, 3),\n",
    "    include_top=False,\n",
    "    weights='imagenet',\n",
    "    pooling='max'\n",
    ")\n",
    "\n",
    "pretrained_model.trainable = False"
   ]
  },
  {
   "cell_type": "code",
   "execution_count": 12,
   "id": "4bc8f871",
   "metadata": {},
   "outputs": [],
   "source": [
    "checkpoint_path = \"Checkpoint_model\"\n",
    "checkpoint_callback = ModelCheckpoint(checkpoint_path,\n",
    "                                      save_weights_only=True,\n",
    "                                      monitor=\"val_accuracy\",\n",
    "                                      save_best_only=True)\n",
    "stop = EarlyStopping(monitor=\"val_loss\", #val-loss\n",
    "                                                  patience=5,restore_best_weights=True)"
   ]
  },
  {
   "cell_type": "code",
   "execution_count": 13,
   "id": "0c9e0952",
   "metadata": {},
   "outputs": [],
   "source": [
    "from tensorflow.keras.callbacks import TensorBoard\n",
    "import os\n",
    "import datetime\n",
    "\n",
    "# Define the function to create a TensorBoard callback ######\n",
    "def create_tensorboard_callback(training_logs, experiment_name):\n",
    "    log_dir = os.path.join('training_logs', 'classification', datetime.datetime.now().strftime(\"%Y%m%d-%H%M%S\"))\n",
    "    tensorboard_callback = TensorBoard(log_dir=log_dir)\n",
    "    return tensorboard_callback"
   ]
  },
  {
   "cell_type": "code",
   "execution_count": 14,
   "id": "b5422df1",
   "metadata": {},
   "outputs": [
    {
     "name": "stdout",
     "output_type": "stream",
     "text": [
      "Epoch 1/50\n"
     ]
    },
    {
     "name": "stderr",
     "output_type": "stream",
     "text": [
      "2024-07-14 19:25:48.360467: W external/local_tsl/tsl/framework/cpu_allocator_impl.cc:83] Allocation of 411041792 exceeds 10% of free system memory.\n",
      "2024-07-14 19:25:48.698631: W external/local_tsl/tsl/framework/cpu_allocator_impl.cc:83] Allocation of 411041792 exceeds 10% of free system memory.\n",
      "2024-07-14 19:25:50.494211: W external/local_tsl/tsl/framework/cpu_allocator_impl.cc:83] Allocation of 205520896 exceeds 10% of free system memory.\n",
      "2024-07-14 19:25:50.839207: W external/local_tsl/tsl/framework/cpu_allocator_impl.cc:83] Allocation of 205520896 exceeds 10% of free system memory.\n"
     ]
    },
    {
     "name": "stdout",
     "output_type": "stream",
     "text": [
      "\r",
      " 1/39 [..............................] - ETA: 7:37 - loss: 4.4898 - accuracy: 0.5625"
     ]
    },
    {
     "name": "stderr",
     "output_type": "stream",
     "text": [
      "2024-07-14 19:25:56.584813: W external/local_tsl/tsl/framework/cpu_allocator_impl.cc:83] Allocation of 411041792 exceeds 10% of free system memory.\n"
     ]
    },
    {
     "name": "stdout",
     "output_type": "stream",
     "text": [
      "39/39 [==============================] - 337s 9s/step - loss: 4.1132 - accuracy: 0.6610 - val_loss: 1.9215 - val_accuracy: 0.7955\n",
      "Epoch 2/50\n",
      "39/39 [==============================] - 294s 8s/step - loss: 3.1312 - accuracy: 0.7152 - val_loss: 1.0879 - val_accuracy: 0.8182\n",
      "Epoch 3/50\n",
      "39/39 [==============================] - 286s 7s/step - loss: 2.3632 - accuracy: 0.7646 - val_loss: 0.6498 - val_accuracy: 0.8669\n",
      "Epoch 4/50\n",
      "39/39 [==============================] - 286s 7s/step - loss: 1.9142 - accuracy: 0.7832 - val_loss: 0.4407 - val_accuracy: 0.9221\n",
      "Epoch 5/50\n",
      "39/39 [==============================] - 289s 7s/step - loss: 1.5078 - accuracy: 0.8139 - val_loss: 0.2881 - val_accuracy: 0.9448\n",
      "Epoch 6/50\n",
      "39/39 [==============================] - 286s 7s/step - loss: 1.1398 - accuracy: 0.8463 - val_loss: 0.2676 - val_accuracy: 0.9513\n",
      "Epoch 7/50\n",
      "39/39 [==============================] - 285s 7s/step - loss: 1.1085 - accuracy: 0.8422 - val_loss: 0.2464 - val_accuracy: 0.9545\n",
      "Epoch 8/50\n",
      "39/39 [==============================] - 290s 7s/step - loss: 1.0029 - accuracy: 0.8681 - val_loss: 0.1866 - val_accuracy: 0.9643\n",
      "Epoch 9/50\n",
      "39/39 [==============================] - 285s 7s/step - loss: 0.7181 - accuracy: 0.8859 - val_loss: 0.2110 - val_accuracy: 0.9643\n",
      "Epoch 10/50\n",
      "39/39 [==============================] - 322s 8s/step - loss: 0.8386 - accuracy: 0.8746 - val_loss: 0.1717 - val_accuracy: 0.9675\n",
      "Epoch 11/50\n",
      "39/39 [==============================] - 300s 8s/step - loss: 0.6858 - accuracy: 0.9005 - val_loss: 0.1460 - val_accuracy: 0.9708\n",
      "Epoch 12/50\n",
      "39/39 [==============================] - 304s 8s/step - loss: 0.6683 - accuracy: 0.9037 - val_loss: 0.1406 - val_accuracy: 0.9675\n",
      "Epoch 13/50\n",
      "39/39 [==============================] - 333s 9s/step - loss: 0.5582 - accuracy: 0.9126 - val_loss: 0.1273 - val_accuracy: 0.9675\n",
      "Epoch 14/50\n",
      "39/39 [==============================] - 318s 8s/step - loss: 0.4776 - accuracy: 0.9191 - val_loss: 0.1128 - val_accuracy: 0.9740\n",
      "Epoch 15/50\n",
      "39/39 [==============================] - 332s 9s/step - loss: 0.4631 - accuracy: 0.9215 - val_loss: 0.0993 - val_accuracy: 0.9838\n",
      "Epoch 16/50\n",
      "39/39 [==============================] - 292s 7s/step - loss: 0.4631 - accuracy: 0.9207 - val_loss: 0.0925 - val_accuracy: 0.9838\n",
      "Epoch 17/50\n",
      "39/39 [==============================] - 293s 7s/step - loss: 0.3765 - accuracy: 0.9353 - val_loss: 0.0867 - val_accuracy: 0.9870\n",
      "Epoch 18/50\n",
      "39/39 [==============================] - 296s 8s/step - loss: 0.3953 - accuracy: 0.9320 - val_loss: 0.0800 - val_accuracy: 0.9870\n",
      "Epoch 19/50\n",
      "39/39 [==============================] - 297s 8s/step - loss: 0.3358 - accuracy: 0.9337 - val_loss: 0.0718 - val_accuracy: 0.9935\n",
      "Epoch 20/50\n",
      "39/39 [==============================] - 321s 8s/step - loss: 0.3232 - accuracy: 0.9345 - val_loss: 0.0711 - val_accuracy: 0.9903\n",
      "Epoch 21/50\n",
      "39/39 [==============================] - 294s 8s/step - loss: 0.3209 - accuracy: 0.9369 - val_loss: 0.0712 - val_accuracy: 0.9903\n",
      "Epoch 22/50\n",
      "39/39 [==============================] - 291s 7s/step - loss: 0.2393 - accuracy: 0.9458 - val_loss: 0.0605 - val_accuracy: 0.9935\n",
      "Epoch 23/50\n",
      "39/39 [==============================] - 301s 8s/step - loss: 0.3302 - accuracy: 0.9369 - val_loss: 0.0528 - val_accuracy: 0.9935\n",
      "Epoch 24/50\n",
      "39/39 [==============================] - 294s 8s/step - loss: 0.1867 - accuracy: 0.9506 - val_loss: 0.0497 - val_accuracy: 0.9935\n",
      "Epoch 25/50\n",
      "39/39 [==============================] - 294s 8s/step - loss: 0.2016 - accuracy: 0.9571 - val_loss: 0.0512 - val_accuracy: 0.9935\n",
      "Epoch 26/50\n",
      "39/39 [==============================] - 314s 8s/step - loss: 0.2077 - accuracy: 0.9498 - val_loss: 0.0453 - val_accuracy: 0.9935\n",
      "Epoch 27/50\n",
      "39/39 [==============================] - 285s 7s/step - loss: 0.1982 - accuracy: 0.9547 - val_loss: 0.0455 - val_accuracy: 0.9935\n",
      "Epoch 28/50\n",
      "39/39 [==============================] - 289s 7s/step - loss: 0.2267 - accuracy: 0.9466 - val_loss: 0.0474 - val_accuracy: 0.9903\n",
      "Epoch 29/50\n",
      "39/39 [==============================] - 322s 8s/step - loss: 0.1852 - accuracy: 0.9563 - val_loss: 0.0493 - val_accuracy: 0.9903\n",
      "Epoch 30/50\n",
      "39/39 [==============================] - 306s 8s/step - loss: 0.1820 - accuracy: 0.9676 - val_loss: 0.0486 - val_accuracy: 0.9903\n",
      "Epoch 31/50\n",
      "39/39 [==============================] - 339s 9s/step - loss: 0.1634 - accuracy: 0.9636 - val_loss: 0.0526 - val_accuracy: 0.9935\n"
     ]
    }
   ],
   "source": [
    "inputs = pretrained_model.input\n",
    "x = resize_and_rescale(inputs)\n",
    "x = data_augmentation(x)\n",
    "\n",
    "x = Dense(256, activation='relu')(pretrained_model.output)\n",
    "x = Dropout(0.40)(x)\n",
    "x = Dense(256, activation='relu')(x)\n",
    "x = Dropout(0.40)(x)\n",
    "\n",
    "outputs = Dense(2, activation='softmax')(x)\n",
    "\n",
    "model = Model(inputs=inputs, outputs=outputs)\n",
    "\n",
    "model.compile(\n",
    "    optimizer=Adam(0.00005),\n",
    "    loss='categorical_crossentropy',\n",
    "    metrics=['accuracy']\n",
    ")\n",
    "history = model.fit(\n",
    "    train_images,\n",
    "    steps_per_epoch=len(train_images),\n",
    "    validation_data=val_images,\n",
    "    validation_steps=len(val_images),\n",
    "    epochs=50,\n",
    "    callbacks=[\n",
    "        stop,\n",
    "        create_tensorboard_callback(\"training_logs\", \"classification\"),\n",
    "        checkpoint_callback,\n",
    "    ]\n",
    ")"
   ]
  },
  {
   "cell_type": "code",
   "execution_count": 15,
   "id": "1449bdc8",
   "metadata": {},
   "outputs": [
    {
     "name": "stdout",
     "output_type": "stream",
     "text": [
      "    Test Loss: 0.0232\n",
      "Test Accuracy: 98.97%\n"
     ]
    }
   ],
   "source": [
    "results = model.evaluate(test_images, verbose=0)\n",
    "\n",
    "print(\"    Test Loss: {:.4f}\".format(results[0]))\n",
    "print(\"Test Accuracy: {:.2f}%\".format(results[1] * 100))\n"
   ]
  },
  {
   "cell_type": "code",
   "execution_count": 16,
   "id": "406bef76",
   "metadata": {},
   "outputs": [
    {
     "name": "stdout",
     "output_type": "stream",
     "text": [
      "13/13 [==============================] - 80s 6s/step\n",
      "               precision    recall  f1-score   support\n",
      "\n",
      "  GABAH BENER       0.99      1.00      0.99       293\n",
      "GABAH GRADE B       1.00      0.96      0.98        94\n",
      "\n",
      "     accuracy                           0.99       387\n",
      "    macro avg       0.99      0.98      0.99       387\n",
      " weighted avg       0.99      0.99      0.99       387\n",
      "\n"
     ]
    }
   ],
   "source": [
    "pred = model.predict(test_images)\n",
    "pred = np.argmax(pred,axis=1)\n",
    "\n",
    "# Map the label\n",
    "labels = (train_images.class_indices)\n",
    "labels = dict((v,k) for k,v in labels.items())\n",
    "pred = [labels[k] for k in pred]\n",
    "\n",
    "y_test = list(test_df.Label)\n",
    "print(classification_report(y_test, pred))"
   ]
  },
  {
   "cell_type": "code",
   "execution_count": 17,
   "id": "505fd0e8",
   "metadata": {},
   "outputs": [
    {
     "data": {
      "image/png": "[encoded data removed]",
      "text/plain": [
       "<Figure size 432x288 with 1 Axes>"
      ]
     },
     "metadata": {
      "needs_background": "light"
     },
     "output_type": "display_data"
    },
    {
     "data": {
      "image/png": "[encoded data removed]",
      "text/plain": [
       "<Figure size 432x288 with 1 Axes>"
      ]
     },
     "metadata": {
      "needs_background": "light"
     },
     "output_type": "display_data"
    }
   ],
   "source": [
    "plot_loss_curves(history)\n"
   ]
  },
  {
   "cell_type": "code",
   "execution_count": 22,
   "id": "a8d58eb7",
   "metadata": {},
   "outputs": [
    {
     "name": "stdout",
     "output_type": "stream",
     "text": [
      "Defaulting to user installation because normal site-packages is not writeable\n",
      "Collecting seaborn\n",
      "  Downloading seaborn-0.13.2-py3-none-any.whl.metadata (5.4 kB)\n",
      "Requirement already satisfied: numpy!=1.24.0,>=1.20 in /home/leonardo/.local/lib/python3.10/site-packages (from seaborn) (1.25.0)\n",
      "Requirement already satisfied: pandas>=1.2 in /home/leonardo/.local/lib/python3.10/site-packages (from seaborn) (2.2.2)\n",
      "Requirement already satisfied: matplotlib!=3.6.1,>=3.4 in /usr/lib/python3/dist-packages (from seaborn) (3.5.1)\n",
      "Requirement already satisfied: python-dateutil>=2.8.2 in /home/leonardo/.local/lib/python3.10/site-packages (from pandas>=1.2->seaborn) (2.9.0.post0)\n",
      "Requirement already satisfied: pytz>=2020.1 in /usr/lib/python3/dist-packages (from pandas>=1.2->seaborn) (2022.1)\n",
      "Requirement already satisfied: tzdata>=2022.7 in /home/leonardo/.local/lib/python3.10/site-packages (from pandas>=1.2->seaborn) (2024.1)\n",
      "Requirement already satisfied: six>=1.5 in /usr/lib/python3/dist-packages (from python-dateutil>=2.8.2->pandas>=1.2->seaborn) (1.16.0)\n",
      "Downloading seaborn-0.13.2-py3-none-any.whl (294 kB)\n",
      "\u001b[2K   \u001b[90m━━━━━━━━━━━━━━━━━━━━━━━━━━━━━━━━━━━━━━━━\u001b[0m \u001b[32m294.9/294.9 kB\u001b[0m \u001b[31m2.7 MB/s\u001b[0m eta \u001b[36m0:00:00\u001b[0ma \u001b[36m0:00:01\u001b[0m\n",
      "\u001b[?25hInstalling collected packages: seaborn\n",
      "Successfully installed seaborn-0.13.2\n",
      "\n",
      "\u001b[1m[\u001b[0m\u001b[34;49mnotice\u001b[0m\u001b[1;39;49m]\u001b[0m\u001b[39;49m A new release of pip is available: \u001b[0m\u001b[31;49m24.0\u001b[0m\u001b[39;49m -> \u001b[0m\u001b[32;49m24.1.2\u001b[0m\n",
      "\u001b[1m[\u001b[0m\u001b[34;49mnotice\u001b[0m\u001b[1;39;49m]\u001b[0m\u001b[39;49m To update, run: \u001b[0m\u001b[32;49mpython3 -m pip install --upgrade pip\u001b[0m\n"
     ]
    },
    {
     "data": {
      "image/png": "[encoded data removed]",
      "text/plain": [
       "<Figure size 432x432 with 1 Axes>"
      ]
     },
     "metadata": {
      "needs_background": "light"
     },
     "output_type": "display_data"
    }
   ],
   "source": [
    "conf_matrix = confusion_matrix(y_test, pred)\n",
    "import seaborn as sns\n",
    "\n",
    "plt.figure(figsize=(6, 6))\n",
    "sns.heatmap(conf_matrix, annot=True, fmt=\"d\", cmap=\"Blues\", cbar=False,\n",
    "            xticklabels=labels.values(), yticklabels=labels.values())\n",
    "plt.xlabel(\"Predicted Labels\")\n",
    "plt.ylabel(\"True Labels\")\n",
    "plt.title(\"Confusion Matrix\")\n",
    "plt.show()\n",
    "\n",
    "\n"
   ]
  },
  {
   "cell_type": "code",
   "execution_count": null,
   "id": "ac368358",
   "metadata": {},
   "outputs": [],
   "source": []
  },
  {
   "cell_type": "code",
   "execution_count": null,
   "id": "6d76950d",
   "metadata": {},
   "outputs": [],
   "source": []
  },
  {
   "cell_type": "code",
   "execution_count": null,
   "id": "1fef3478",
   "metadata": {},
   "outputs": [],
   "source": []
  },
  {
   "cell_type": "code",
   "execution_count": null,
   "id": "1e141412",
   "metadata": {},
   "outputs": [],
   "source": []
  }
 ],
 "metadata": {
  "kernelspec": {
   "display_name": "Python 3 (ipykernel)",
   "language": "python",
   "name": "python3"
  },
  "language_info": {
   "codemirror_mode": {
    "name": "ipython",
    "version": 3
   },
   "file_extension": ".py",
   "mimetype": "text/x-python",
   "name": "python",
   "nbconvert_exporter": "python",
   "pygments_lexer": "ipython3",
   "version": "3.10.12"
  }
 },
 "nbformat": 4,
 "nbformat_minor": 5
}
